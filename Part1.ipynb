{
 "cells": [
  {
   "cell_type": "markdown",
   "id": "fd3e23b3-4fef-4134-bfda-294ae764dadd",
   "metadata": {},
   "source": [
    "## Import packages"
   ]
  },
  {
   "cell_type": "code",
   "execution_count": 1,
   "id": "217a620c-c353-4764-bd78-dfe9411721f4",
   "metadata": {},
   "outputs": [],
   "source": [
    "import time\n",
    "import pmdarima as pm\n",
    "import pandas as pd\n",
    "import numpy as np\n",
    "import matplotlib.pyplot as plt\n",
    "from matplotlib.pyplot import figure\n",
    "import seaborn as sns\n",
    "import caffeine\n",
    "import warnings\n",
    "warnings.simplefilter(action='ignore', category=FutureWarning)\n",
    "from scipy.stats import percentileofscore\n",
    "from numpy.typing import ArrayLike\n",
    "from typing import Dict"
   ]
  },
  {
   "cell_type": "markdown",
   "id": "bb9c6f73-3890-4914-82e5-76eec5e4814a",
   "metadata": {},
   "source": [
    "# Read Data & Preprocess"
   ]
  },
  {
   "cell_type": "code",
   "execution_count": 2,
   "id": "21e1f1ca-a537-43d9-97cf-b55bf450a08c",
   "metadata": {},
   "outputs": [],
   "source": [
    "df = pd.read_csv('./data/Day-ahead_Prices_60min.csv')"
   ]
  },
  {
   "cell_type": "code",
   "execution_count": 3,
   "id": "11a1bdeb-0d66-4bb5-a8fa-bfb1ff4de04c",
   "metadata": {},
   "outputs": [],
   "source": [
    "# Rename columns for simplicity, drop missing/invariant columns\n",
    "df = df.rename(columns={'MTU (CET/CEST)': \"dt\", 'Day-ahead Price [EUR/MWh]': 'price'})\n",
    "df = df.iloc[:, :2]  # other two columns were invariant or missing"
   ]
  },
  {
   "cell_type": "markdown",
   "id": "87409455-fc84-45bb-8803-ece185031498",
   "metadata": {},
   "source": [
    "#### Convert `MTU (CET/CEST)` to start of 60 min contract"
   ]
  },
  {
   "cell_type": "code",
   "execution_count": 4,
   "id": "5cafc51a-ad71-4b49-ad0a-d2c48d37957b",
   "metadata": {},
   "outputs": [],
   "source": [
    "df['dt'] = df['dt'].apply(lambda x: ''.join(x.split(' - ')[0])) # take first time listed\n",
    "df['dt'] = pd.to_datetime(df['dt'], format='%d.%m.%Y %H:%M')"
   ]
  },
  {
   "cell_type": "markdown",
   "id": "1d2f5d4a-65c7-442b-93b9-a0bafe0603e7",
   "metadata": {},
   "source": [
    "#### Engineer Time Features: Date, Month, Day of Month (dom), Day of Week (dow), Hour of Day"
   ]
  },
  {
   "cell_type": "code",
   "execution_count": 5,
   "id": "afb423ed-7c6b-4ae9-9efe-ca7c598ff528",
   "metadata": {},
   "outputs": [],
   "source": [
    "df['date'] = df['dt'].dt.date\n",
    "df['hour'] = df['dt'].dt.hour\n",
    "df['month'] = df['dt'].dt.month\n",
    "df['dow'] = df['dt'].dt.dayofweek  # numeric day, 0 is Monday, 6 is Sunday\n",
    "df['dom'] = df['date'].astype(str).apply(lambda x: int(x.split('-')[-1]))  # date of month\n",
    "df['doy'] = df['dt'].dt.day_of_year  # numeric day of year"
   ]
  },
  {
   "cell_type": "markdown",
   "id": "ccd13dd7-f1c0-4424-8845-09ca407e9047",
   "metadata": {},
   "source": [
    "#### Interpolate prices for missing values\n",
    "\n",
    "**Below we see that a small fraction (1 observation) of day-ahead price is missing, which will cause modeling problems later. We therefore linearly interpolate these prices by taking the mean of the surrounding values**"
   ]
  },
  {
   "cell_type": "code",
   "execution_count": 6,
   "id": "e17a5e44-5964-443a-acab-df74c07f29ca",
   "metadata": {},
   "outputs": [
    {
     "name": "stdout",
     "output_type": "stream",
     "text": [
      "dt       0.00000\n",
      "price    0.00023\n",
      "date     0.00000\n",
      "hour     0.00000\n",
      "month    0.00000\n",
      "dow      0.00000\n",
      "dom      0.00000\n",
      "doy      0.00000\n",
      "dtype: float64\n",
      "\n",
      "Number of missings: 1\n"
     ]
    }
   ],
   "source": [
    "print(df.isnull().mean())\n",
    "print(\"\\nNumber of missings:\" , df['price'].isnull().sum())"
   ]
  },
  {
   "cell_type": "code",
   "execution_count": 7,
   "id": "aa233d3e-69d5-409e-b5bc-29f556094c3d",
   "metadata": {},
   "outputs": [],
   "source": [
    "df['price'] = df['price'].fillna(df.iloc[2041:2044, 1].mean())"
   ]
  },
  {
   "cell_type": "markdown",
   "id": "bbd413dd-c4cd-4931-b7dc-a7dceb54018b",
   "metadata": {},
   "source": [
    "#### Final dataset"
   ]
  },
  {
   "cell_type": "code",
   "execution_count": 23,
   "id": "14af7d69-2448-4ac9-93e8-20dee6d21a35",
   "metadata": {},
   "outputs": [
    {
     "data": {
      "text/html": [
       "<div>\n",
       "<style scoped>\n",
       "    .dataframe tbody tr th:only-of-type {\n",
       "        vertical-align: middle;\n",
       "    }\n",
       "\n",
       "    .dataframe tbody tr th {\n",
       "        vertical-align: top;\n",
       "    }\n",
       "\n",
       "    .dataframe thead th {\n",
       "        text-align: right;\n",
       "    }\n",
       "</style>\n",
       "<table border=\"1\" class=\"dataframe\">\n",
       "  <thead>\n",
       "    <tr style=\"text-align: right;\">\n",
       "      <th></th>\n",
       "      <th>dt</th>\n",
       "      <th>price</th>\n",
       "      <th>date</th>\n",
       "      <th>hour</th>\n",
       "      <th>month</th>\n",
       "      <th>dow</th>\n",
       "      <th>dom</th>\n",
       "      <th>doy</th>\n",
       "      <th>percentile</th>\n",
       "    </tr>\n",
       "  </thead>\n",
       "  <tbody>\n",
       "    <tr>\n",
       "      <th>0</th>\n",
       "      <td>2022-01-01 00:00:00</td>\n",
       "      <td>50.05</td>\n",
       "      <td>2022-01-01</td>\n",
       "      <td>0</td>\n",
       "      <td>1</td>\n",
       "      <td>5</td>\n",
       "      <td>1</td>\n",
       "      <td>1</td>\n",
       "      <td>37.500000</td>\n",
       "    </tr>\n",
       "    <tr>\n",
       "      <th>1</th>\n",
       "      <td>2022-01-01 01:00:00</td>\n",
       "      <td>41.33</td>\n",
       "      <td>2022-01-01</td>\n",
       "      <td>1</td>\n",
       "      <td>1</td>\n",
       "      <td>5</td>\n",
       "      <td>1</td>\n",
       "      <td>1</td>\n",
       "      <td>16.666667</td>\n",
       "    </tr>\n",
       "    <tr>\n",
       "      <th>2</th>\n",
       "      <td>2022-01-01 02:00:00</td>\n",
       "      <td>43.22</td>\n",
       "      <td>2022-01-01</td>\n",
       "      <td>2</td>\n",
       "      <td>1</td>\n",
       "      <td>5</td>\n",
       "      <td>1</td>\n",
       "      <td>1</td>\n",
       "      <td>20.833333</td>\n",
       "    </tr>\n",
       "    <tr>\n",
       "      <th>3</th>\n",
       "      <td>2022-01-01 03:00:00</td>\n",
       "      <td>45.46</td>\n",
       "      <td>2022-01-01</td>\n",
       "      <td>3</td>\n",
       "      <td>1</td>\n",
       "      <td>5</td>\n",
       "      <td>1</td>\n",
       "      <td>1</td>\n",
       "      <td>29.166667</td>\n",
       "    </tr>\n",
       "    <tr>\n",
       "      <th>4</th>\n",
       "      <td>2022-01-01 04:00:00</td>\n",
       "      <td>37.67</td>\n",
       "      <td>2022-01-01</td>\n",
       "      <td>4</td>\n",
       "      <td>1</td>\n",
       "      <td>5</td>\n",
       "      <td>1</td>\n",
       "      <td>1</td>\n",
       "      <td>4.166667</td>\n",
       "    </tr>\n",
       "    <tr>\n",
       "      <th>...</th>\n",
       "      <td>...</td>\n",
       "      <td>...</td>\n",
       "      <td>...</td>\n",
       "      <td>...</td>\n",
       "      <td>...</td>\n",
       "      <td>...</td>\n",
       "      <td>...</td>\n",
       "      <td>...</td>\n",
       "      <td>...</td>\n",
       "    </tr>\n",
       "    <tr>\n",
       "      <th>4339</th>\n",
       "      <td>2022-06-30 19:00:00</td>\n",
       "      <td>479.00</td>\n",
       "      <td>2022-06-30</td>\n",
       "      <td>19</td>\n",
       "      <td>6</td>\n",
       "      <td>3</td>\n",
       "      <td>30</td>\n",
       "      <td>181</td>\n",
       "      <td>100.000000</td>\n",
       "    </tr>\n",
       "    <tr>\n",
       "      <th>4340</th>\n",
       "      <td>2022-06-30 20:00:00</td>\n",
       "      <td>450.00</td>\n",
       "      <td>2022-06-30</td>\n",
       "      <td>20</td>\n",
       "      <td>6</td>\n",
       "      <td>3</td>\n",
       "      <td>30</td>\n",
       "      <td>181</td>\n",
       "      <td>95.833333</td>\n",
       "    </tr>\n",
       "    <tr>\n",
       "      <th>4341</th>\n",
       "      <td>2022-06-30 21:00:00</td>\n",
       "      <td>394.21</td>\n",
       "      <td>2022-06-30</td>\n",
       "      <td>21</td>\n",
       "      <td>6</td>\n",
       "      <td>3</td>\n",
       "      <td>30</td>\n",
       "      <td>181</td>\n",
       "      <td>87.500000</td>\n",
       "    </tr>\n",
       "    <tr>\n",
       "      <th>4342</th>\n",
       "      <td>2022-06-30 22:00:00</td>\n",
       "      <td>355.17</td>\n",
       "      <td>2022-06-30</td>\n",
       "      <td>22</td>\n",
       "      <td>6</td>\n",
       "      <td>3</td>\n",
       "      <td>30</td>\n",
       "      <td>181</td>\n",
       "      <td>70.833333</td>\n",
       "    </tr>\n",
       "    <tr>\n",
       "      <th>4343</th>\n",
       "      <td>2022-06-30 23:00:00</td>\n",
       "      <td>258.08</td>\n",
       "      <td>2022-06-30</td>\n",
       "      <td>23</td>\n",
       "      <td>6</td>\n",
       "      <td>3</td>\n",
       "      <td>30</td>\n",
       "      <td>181</td>\n",
       "      <td>4.166667</td>\n",
       "    </tr>\n",
       "  </tbody>\n",
       "</table>\n",
       "<p>4344 rows × 9 columns</p>\n",
       "</div>"
      ],
      "text/plain": [
       "                      dt   price        date  hour  month  dow  dom  doy  \\\n",
       "0    2022-01-01 00:00:00   50.05  2022-01-01     0      1    5    1    1   \n",
       "1    2022-01-01 01:00:00   41.33  2022-01-01     1      1    5    1    1   \n",
       "2    2022-01-01 02:00:00   43.22  2022-01-01     2      1    5    1    1   \n",
       "3    2022-01-01 03:00:00   45.46  2022-01-01     3      1    5    1    1   \n",
       "4    2022-01-01 04:00:00   37.67  2022-01-01     4      1    5    1    1   \n",
       "...                  ...     ...         ...   ...    ...  ...  ...  ...   \n",
       "4339 2022-06-30 19:00:00  479.00  2022-06-30    19      6    3   30  181   \n",
       "4340 2022-06-30 20:00:00  450.00  2022-06-30    20      6    3   30  181   \n",
       "4341 2022-06-30 21:00:00  394.21  2022-06-30    21      6    3   30  181   \n",
       "4342 2022-06-30 22:00:00  355.17  2022-06-30    22      6    3   30  181   \n",
       "4343 2022-06-30 23:00:00  258.08  2022-06-30    23      6    3   30  181   \n",
       "\n",
       "      percentile  \n",
       "0      37.500000  \n",
       "1      16.666667  \n",
       "2      20.833333  \n",
       "3      29.166667  \n",
       "4       4.166667  \n",
       "...          ...  \n",
       "4339  100.000000  \n",
       "4340   95.833333  \n",
       "4341   87.500000  \n",
       "4342   70.833333  \n",
       "4343    4.166667  \n",
       "\n",
       "[4344 rows x 9 columns]"
      ]
     },
     "execution_count": 23,
     "metadata": {},
     "output_type": "execute_result"
    }
   ],
   "source": [
    "df"
   ]
  },
  {
   "cell_type": "code",
   "execution_count": 24,
   "id": "3838ed7e-8c74-4e89-a7e4-c53f74112c1b",
   "metadata": {},
   "outputs": [
    {
     "data": {
      "text/plain": [
       "count    4344.000000\n",
       "mean      185.809573\n",
       "std        90.647697\n",
       "min       -19.040000\n",
       "25%       122.155000\n",
       "50%       189.005000\n",
       "75%       232.927500\n",
       "max       700.000000\n",
       "Name: price, dtype: float64"
      ]
     },
     "execution_count": 24,
     "metadata": {},
     "output_type": "execute_result"
    }
   ],
   "source": [
    "df['price'].describe()"
   ]
  },
  {
   "cell_type": "markdown",
   "id": "5bce5c90-b446-4f31-91e6-081a79f88452",
   "metadata": {},
   "source": [
    "# Exploratory Data Analysis (EDA)"
   ]
  },
  {
   "cell_type": "code",
   "execution_count": 9,
   "id": "1bd0af77-609e-4067-963c-3c51c50e6368",
   "metadata": {},
   "outputs": [
    {
     "data": {
      "text/plain": [
       "(4344, 8)"
      ]
     },
     "execution_count": 9,
     "metadata": {},
     "output_type": "execute_result"
    }
   ],
   "source": [
    "df.shape"
   ]
  },
  {
   "cell_type": "code",
   "execution_count": 10,
   "id": "5d51a26e-57ad-425e-a0ba-e373b6628759",
   "metadata": {},
   "outputs": [
    {
     "name": "stdout",
     "output_type": "stream",
     "text": [
      "2022-01-01 00:00:00\n",
      "2022-06-30 23:00:00\n"
     ]
    }
   ],
   "source": [
    "print(df['dt'].min())\n",
    "print(df['dt'].max())"
   ]
  },
  {
   "cell_type": "code",
   "execution_count": 11,
   "id": "957c7708-4ad6-4cbc-8281-06d856871ace",
   "metadata": {},
   "outputs": [
    {
     "data": {
      "text/plain": [
       "count    4344.000000\n",
       "mean      185.809573\n",
       "std        90.647697\n",
       "min       -19.040000\n",
       "25%       122.155000\n",
       "50%       189.005000\n",
       "75%       232.927500\n",
       "max       700.000000\n",
       "Name: price, dtype: float64"
      ]
     },
     "execution_count": 11,
     "metadata": {},
     "output_type": "execute_result"
    }
   ],
   "source": [
    "df['price'].describe()"
   ]
  },
  {
   "cell_type": "code",
   "execution_count": 12,
   "id": "a6e4e5d0-7e3c-4077-ab16-6b948d7e652e",
   "metadata": {},
   "outputs": [
    {
     "data": {
      "text/plain": [
       "(38, 8)"
      ]
     },
     "execution_count": 12,
     "metadata": {},
     "output_type": "execute_result"
    }
   ],
   "source": [
    "df[df['price']<0].shape"
   ]
  },
  {
   "cell_type": "code",
   "execution_count": 13,
   "id": "1dbad17d-9e45-487b-a1eb-b5568b32ddd5",
   "metadata": {},
   "outputs": [
    {
     "data": {
      "image/png": "[encoded data removed]",
      "text/plain": [
       "<Figure size 640x480 with 1 Axes>"
      ]
     },
     "metadata": {
      "needs_background": "light"
     },
     "output_type": "display_data"
    }
   ],
   "source": [
    "figure(figsize=(8, 6), dpi=80)\n",
    "sns.lineplot(df, x='dt', y='price')\n",
    "plt.ylabel('Price in EUR')\n",
    "plt.xlabel('Date')\n",
    "plt.title('Figure 1: Price over Time')\n",
    "plt.show()"
   ]
  },
  {
   "cell_type": "markdown",
   "id": "3056faa1-4b6e-437d-8c43-660b007cf04d",
   "metadata": {},
   "source": [
    "# Question 1.1"
   ]
  },
  {
   "cell_type": "markdown",
   "id": "d7c09595-c964-4278-9f44-6a92f375e566",
   "metadata": {},
   "source": [
    "## 1.1.1 Setup\n",
    "\n",
    "To find the profit-maximizing times of day to charge and discharge the battery we must first subtract out secular and/or daily differences in prices across time. We do this by calculating the percentile rank, a common distributional statistic, of each price grouped by date using the function below. An intutitive explanation of percentile rank is e.g. 80% means that 80% of the scores in a series/array are below the given score. \n",
    "\n",
    "Using percentile rank conditions out price shifts over time such as what we see in `Figure 1` above. This allows us to compare prices **relative** to the other prices for a given day, rather than compare them absolutely across time. Percentile rank is also more robust to outliers than mean-based scores (e.g. [standardized score](https://en.wikipedia.org/wiki/Standard_score))"
   ]
  },
  {
   "cell_type": "code",
   "execution_count": 14,
   "id": "2c557ee2-109f-4be8-a742-974e2725dd38",
   "metadata": {},
   "outputs": [],
   "source": [
    "def series_percentile(series: pd.Series) -> pd.Series:\n",
    "    \"\"\"\n",
    "    Calculates the average percentage ranking of a pd.Series. In case of multiple matches, average \n",
    "        the percentage rankings of all matching scores.\n",
    "    :param series: pd.Series, a single day's price data\n",
    "    :return: pd.Series\n",
    "    \"\"\"\n",
    "    return pd.Series([percentileofscore(series, a, 'rank') for a in series])"
   ]
  },
  {
   "cell_type": "code",
   "execution_count": 15,
   "id": "fe690e28-a2e3-4f7a-bd91-9a4e91153e2e",
   "metadata": {},
   "outputs": [
    {
     "data": {
      "text/html": [
       "<div>\n",
       "<style scoped>\n",
       "    .dataframe tbody tr th:only-of-type {\n",
       "        vertical-align: middle;\n",
       "    }\n",
       "\n",
       "    .dataframe tbody tr th {\n",
       "        vertical-align: top;\n",
       "    }\n",
       "\n",
       "    .dataframe thead th {\n",
       "        text-align: right;\n",
       "    }\n",
       "</style>\n",
       "<table border=\"1\" class=\"dataframe\">\n",
       "  <thead>\n",
       "    <tr style=\"text-align: right;\">\n",
       "      <th></th>\n",
       "      <th>dt</th>\n",
       "      <th>price</th>\n",
       "      <th>date</th>\n",
       "      <th>hour</th>\n",
       "      <th>month</th>\n",
       "      <th>dow</th>\n",
       "      <th>dom</th>\n",
       "      <th>doy</th>\n",
       "      <th>percentile</th>\n",
       "    </tr>\n",
       "  </thead>\n",
       "  <tbody>\n",
       "    <tr>\n",
       "      <th>0</th>\n",
       "      <td>2022-01-01 00:00:00</td>\n",
       "      <td>50.05</td>\n",
       "      <td>2022-01-01</td>\n",
       "      <td>0</td>\n",
       "      <td>1</td>\n",
       "      <td>5</td>\n",
       "      <td>1</td>\n",
       "      <td>1</td>\n",
       "      <td>37.500000</td>\n",
       "    </tr>\n",
       "    <tr>\n",
       "      <th>1</th>\n",
       "      <td>2022-01-01 01:00:00</td>\n",
       "      <td>41.33</td>\n",
       "      <td>2022-01-01</td>\n",
       "      <td>1</td>\n",
       "      <td>1</td>\n",
       "      <td>5</td>\n",
       "      <td>1</td>\n",
       "      <td>1</td>\n",
       "      <td>16.666667</td>\n",
       "    </tr>\n",
       "    <tr>\n",
       "      <th>2</th>\n",
       "      <td>2022-01-01 02:00:00</td>\n",
       "      <td>43.22</td>\n",
       "      <td>2022-01-01</td>\n",
       "      <td>2</td>\n",
       "      <td>1</td>\n",
       "      <td>5</td>\n",
       "      <td>1</td>\n",
       "      <td>1</td>\n",
       "      <td>20.833333</td>\n",
       "    </tr>\n",
       "    <tr>\n",
       "      <th>3</th>\n",
       "      <td>2022-01-01 03:00:00</td>\n",
       "      <td>45.46</td>\n",
       "      <td>2022-01-01</td>\n",
       "      <td>3</td>\n",
       "      <td>1</td>\n",
       "      <td>5</td>\n",
       "      <td>1</td>\n",
       "      <td>1</td>\n",
       "      <td>29.166667</td>\n",
       "    </tr>\n",
       "    <tr>\n",
       "      <th>4</th>\n",
       "      <td>2022-01-01 04:00:00</td>\n",
       "      <td>37.67</td>\n",
       "      <td>2022-01-01</td>\n",
       "      <td>4</td>\n",
       "      <td>1</td>\n",
       "      <td>5</td>\n",
       "      <td>1</td>\n",
       "      <td>1</td>\n",
       "      <td>4.166667</td>\n",
       "    </tr>\n",
       "  </tbody>\n",
       "</table>\n",
       "</div>"
      ],
      "text/plain": [
       "                   dt  price        date  hour  month  dow  dom  doy  \\\n",
       "0 2022-01-01 00:00:00  50.05  2022-01-01     0      1    5    1    1   \n",
       "1 2022-01-01 01:00:00  41.33  2022-01-01     1      1    5    1    1   \n",
       "2 2022-01-01 02:00:00  43.22  2022-01-01     2      1    5    1    1   \n",
       "3 2022-01-01 03:00:00  45.46  2022-01-01     3      1    5    1    1   \n",
       "4 2022-01-01 04:00:00  37.67  2022-01-01     4      1    5    1    1   \n",
       "\n",
       "   percentile  \n",
       "0   37.500000  \n",
       "1   16.666667  \n",
       "2   20.833333  \n",
       "3   29.166667  \n",
       "4    4.166667  "
      ]
     },
     "execution_count": 15,
     "metadata": {},
     "output_type": "execute_result"
    }
   ],
   "source": [
    "perc = df.groupby('date')['price'].apply(series_percentile).reset_index()\n",
    "perc = perc.rename(columns={'price': 'percentile'})\n",
    "df = pd.concat([df, perc['percentile']], axis=1)\n",
    "df.head()"
   ]
  },
  {
   "cell_type": "markdown",
   "id": "4f7f162f-80ae-4156-94a4-d3de134536d7",
   "metadata": {},
   "source": [
    "## 1.1.2 Visualizing relative hourly energy prices by weekday vs. weekend\n",
    "\n",
    "In expectation, energy consumption should differ markedly between weekdays versus weekends (ignoring holidays), which in turn affects energy availability and prices.\n",
    "\n",
    "To understand how energy prices *typically* fluctuate by hour, we calculate two common measures of central tendency (mean and median) by hour of day, separately for weekdays and weekends."
   ]
  },
  {
   "cell_type": "code",
   "execution_count": 16,
   "id": "8350c191-156a-4583-ad76-d33790a4c353",
   "metadata": {},
   "outputs": [],
   "source": [
    "# Weekday\n",
    "hourly_mean_wkdy = df[df['dow']<5].groupby('hour')['percentile'].mean()\n",
    "hourly_median_wkdy = df[df['dow']<5].groupby('hour')['percentile'].median()\n",
    "# Weekend\n",
    "hourly_mean_wknd = df[df['dow'].isin([5, 6])].groupby('hour')['percentile'].mean()\n",
    "hourly_median_wknd = df[df['dow'].isin([5, 6])].groupby('hour')['percentile'].median()"
   ]
  },
  {
   "cell_type": "code",
   "execution_count": 17,
   "id": "3718ecc0-4b4d-4b3a-957b-7d71bf11fe03",
   "metadata": {},
   "outputs": [
    {
     "data": {
      "image/png": "[encoded data removed]",
      "text/plain": [
       "<Figure size 640x480 with 1 Axes>"
      ]
     },
     "metadata": {
      "needs_background": "light"
     },
     "output_type": "display_data"
    }
   ],
   "source": [
    "figure(figsize=(8, 6), dpi=80)\n",
    "sns.lineplot(hourly_mean_wkdy, label='mean')\n",
    "sns.lineplot(hourly_median_wkdy, label='median')\n",
    "plt.ylabel('Percentile Rank of Price')\n",
    "plt.xlabel('Hour of Day')\n",
    "plt.title('Figure 2: Relative Energy Price by Hour - Weekday')\n",
    "plt.show()"
   ]
  },
  {
   "cell_type": "code",
   "execution_count": 18,
   "id": "71a323e0-e58c-481a-9a84-c200f64c9593",
   "metadata": {},
   "outputs": [
    {
     "data": {
      "image/png": "[encoded data removed]",
      "text/plain": [
       "<Figure size 640x480 with 1 Axes>"
      ]
     },
     "metadata": {
      "needs_background": "light"
     },
     "output_type": "display_data"
    }
   ],
   "source": [
    "figure(figsize=(8, 6), dpi=80)\n",
    "sns.lineplot(hourly_mean_wknd, label='mean')\n",
    "sns.lineplot(hourly_median_wknd, label='median')\n",
    "plt.ylabel('Percentile Rank of Price')\n",
    "plt.xlabel('Hour of Day')\n",
    "plt.title('Figure 3: Relative Energy Price by Hour - Weekend')\n",
    "plt.show()"
   ]
  },
  {
   "cell_type": "markdown",
   "id": "bfe7aa07-8a13-4b43-88be-13333bf52f7b",
   "metadata": {},
   "source": [
    "As expected, trends in hourly energy prices by day differ considerably by weekday versus weekend. **On weekdays, we see evidence of two clear cycles of low and peak energy prices**; energy prices are lowest between 2-4h and again between 13-15h. Conversely, they are highest between 6-9h and again from 18-20h (see `Figure 2`). On weekends, we also find evidence of two cycles of low and peak energy prices, though the morning cycle is considerably dampened (see `Figure 3`)."
   ]
  },
  {
   "cell_type": "markdown",
   "id": "1895258a-c3ec-41ee-8341-228fe59cfa11",
   "metadata": {},
   "source": [
    "## 1.1.3 Naive profit maximization algorithm\n",
    "\n",
    "Assuming no other requirements (e.g. *importantly*: frequency of charges/discharges per day, start order of charge/discharge cycles), constraints (e.g. min/max storage duration), or costs (e.g. no storage or discharge costs), a **naive profit-maximizing strategy would be to charge and discharge the battery according to the typical number of cycles per day and their typical times. That is, we charge the battery when prices are typically low and discharge the battery when prices are typically high**. \n",
    "\n",
    "This naive algorithm makes **two other important assumptions**:\n",
    "- Conditional on weekday/weekend, optimal pricing occurs at the same times each day\n",
    "- The number of cycles per day is constant, i.e. there are two local minima and two local maxima"
   ]
  },
  {
   "cell_type": "code",
   "execution_count": 19,
   "id": "ae49f89d-dfcd-43cc-a3cf-ca44a7d6a00c",
   "metadata": {},
   "outputs": [
    {
     "name": "stdout",
     "output_type": "stream",
     "text": [
      "Weekday: hours of day sorted by increasing energy price: [ 3  2  4 14 13  1 15 12  0 23  5 11 16 10 22  6 17 21  9 20 18  7 19  8]\n",
      "\n",
      "Weekend: hours of day sorted by increasing energy price: [14 13 15 12 11 16 10  4  3  6  5  9  2  7  8  1 23 17  0 22 21 18 20 19]\n"
     ]
    }
   ],
   "source": [
    "print(\"Weekday: hours of day sorted by increasing energy price:\", np.argsort(hourly_mean_wkdy.values))\n",
    "\n",
    "print(\"\\nWeekend: hours of day sorted by increasing energy price:\", np.argsort(hourly_mean_wknd.values))"
   ]
  },
  {
   "cell_type": "markdown",
   "id": "a4c56158-b25e-4920-989c-cb4a7a9f1f32",
   "metadata": {},
   "source": [
    "Based on the above, we conclude the following are *typically* the best times to charge and discharge the battery:\n",
    "\n",
    "Weekday, 2 cycles:\n",
    "- 3h: charge (1)\n",
    "- 8h: discharge (1)\n",
    "- 14h: charge (2)\n",
    "- 19h: discharge (2)\n",
    "\n",
    "Weekend, 2 cycles:\n",
    "- 4h: charge (1)\n",
    "- 9h: discharge (1)\n",
    "- 14h: charge (2)\n",
    "- 20h: discharge (2)\n",
    "\n",
    "Next, we'd iterate through each day, select the prices at these particular times, calculate the revenue, and sum revenue across all days."
   ]
  },
  {
   "cell_type": "markdown",
   "id": "d23c2053-4fd6-44a4-800a-695cbdf925bd",
   "metadata": {},
   "source": [
    "## 1.1.4 Improved profit maximization algorithm\n",
    "\n",
    "A refined algorithm would relax the two latter asumptions in the naive algorithm by:\n",
    "- Dynamically searching for local minima and maxima, rather than setting them statically \n",
    "\n",
    "**For the sake of time and simplicity, I'll assume at most 1 cycle per half-day, i.e. a morning cycle and an afternoon cycle**."
   ]
  },
  {
   "cell_type": "code",
   "execution_count": 25,
   "id": "ea3d1599-ca8a-4a65-84f1-6eeece1e5078",
   "metadata": {},
   "outputs": [],
   "source": [
    "def calculate_revenue_v2(df: pd.DataFrame) -> int:\n",
    "    \"\"\"\n",
    "    Iterates through all unique days in `df`, assuming two daily cycles of low/high energy prices finds cheapest and\n",
    "        most expensive morning and afternoon times per day, calculates potential revenue by subtracting cheapest from\n",
    "        most expensive price per cycle. Sums potential revenue across all days & cycles, returning this value.\n",
    "    :param df: pd.DataFrame\n",
    "    :return: int, sum of potential revenue across all days\n",
    "    \"\"\"\n",
    "    total_revenue = 0\n",
    "    for t in df['doy'].unique():\n",
    "\n",
    "        # Assume a morning and afternoon cycle\n",
    "        early_morning = df[(df['doy'] == t) & (df['hour'] < 8)]\n",
    "        late_morning = df[(df['doy'] == t) & (df['hour'] >= 8) & (df['hour'] <= 12)]\n",
    "        early_afternoon = df[(df['doy'] == t) & (df['hour'] > 12) & (df['hour'] <= 16)]\n",
    "        late_afternoon = df[(df['doy'] == t) & (df['hour'] > 16)]\n",
    "\n",
    "        # Identify argmax and min per morning and afternoon\n",
    "        morning_argmin = np.argmin(early_morning['price'])\n",
    "        morning_argmax = np.argmax(late_morning['price'])\n",
    "        afternoon_argmin = np.argmin(early_afternoon['price'])\n",
    "        afternoon_argmax = np.argmax(late_afternoon['price'])\n",
    "\n",
    "        # Calculate revenue\n",
    "        total_revenue += late_morning['price'].values[morning_argmax] - early_morning['price'].values[\n",
    "            morning_argmin]  # morning cycle\n",
    "\n",
    "        total_revenue += late_afternoon['price'].values[afternoon_argmax] - early_afternoon['price'].values[\n",
    "            afternoon_argmin]  # afternoon cycle\n",
    "\n",
    "    return round(total_revenue, 2)"
   ]
  },
  {
   "cell_type": "code",
   "execution_count": 32,
   "id": "6c3ef501-8b13-4652-a22b-9ffe748890aa",
   "metadata": {},
   "outputs": [
    {
     "name": "stdout",
     "output_type": "stream",
     "text": [
      "Total revenue: 34,798.08 EUR\n"
     ]
    }
   ],
   "source": [
    "print('Total revenue: {:,} EUR'.format(calculate_revenue_v2(df)))"
   ]
  },
  {
   "cell_type": "markdown",
   "id": "92c02617-dc43-423e-a192-b17f66766b54",
   "metadata": {},
   "source": [
    "# Question 1.2"
   ]
  },
  {
   "cell_type": "markdown",
   "id": "9c25df55-ea83-409b-a68c-988a798f7b9e",
   "metadata": {},
   "source": [
    "## 1.2.1 Algorithm setup\n",
    "\n",
    "Predicting future energy costs in order to optimize charge and discharge times is a univariate time series forecasting problem. Since we're not allowed to use future information (as in real life), the following pseudocode explains how we'll iteratively forecast energy prices and select the optimal times of the day to charge and discharge.\n",
    "\n",
    "Variables\n",
    "- Let `t` represent the numeric calendar day of the year (all hours for that day)\n",
    "- Let `t`+1 represent the day we forecast (all hours for that day)\n",
    "- Let `j` represent the number of days to include in the rolling window\n",
    "\n",
    "\n",
    "Algorithm\n",
    "- Initialize `t` as 60 (i.e. 1 March 2022)\n",
    "- Set `j` as 60 for all T\n",
    "- Initialize empty dataframe, `results`, to store results\n",
    "- For each `t` in df.day_of_year.unique()[`t`:-1]:\n",
    "    - `training_data` = df[(df.day_of_year <= `t`) & (df.day_of_year > (`t`-`j`))]\n",
    "    - `test_data` = df[df.day_of_year == `t`+1]\n",
    "    - train model on `training_data`\n",
    "    - forecast prices in `t+1` using `train_data`\n",
    "    - get argmax[:2], argmin[:2] of forecast prices from train_data to determine optimal times to discharge and charge, respectively  **TODO**\n",
    "    - concatenate argmax[:2], argmin[:2] to `results`   **TODO**\n",
    "    - compare results to `test_data`  **TODO**\n",
    "\n",
    "\n",
    "Setting `j` at 60 means we use the first 60 days' worth of data as our training set. Because we lose the first 60 days, we are only able to generate price forecasts between 2. March 2022 - 30. June 2022 inclusive. However, we need a sufficient `j` in order to accurately estimate future prices.\n",
    "\n",
    "Alternatively, we could use a smaller `j`, e.g. 30 days. Yet auxiliary analyses suggested poorer forecast performance according to all metrics with a 30-day versus a 60-day window. With additional time, it would be worthwhile to examine the speed-performance trade-off of this restriction.\n",
    "\n",
    "But why limit the training set via `j` to begin? Because we're estimating the model repeatedly via a loop, this restriction drastically speeds up algorithm completion, otherwise the size of `training_set` would grow with each `t`. With additional time, it would be worthwhile to examine the speed-performance trade-off of this restriction."
   ]
  },
  {
   "cell_type": "markdown",
   "id": "3e4908d1-db70-432b-b952-47211fe203e6",
   "metadata": {},
   "source": [
    "## 1.2.2 Seasonal ARIMA model\n",
    "\n",
    "One of the most common time series models is an [Autoregressive integrated moving average (ARIMA)](https://en.wikipedia.org/wiki/Autoregressive_integrated_moving_average) model. The basic ARIMA model comprises 3 components: \n",
    "- Autoregressive (AR) component, which denotes the model contains lagged parameters of the endogenous variable\n",
    "- Integrated (I) component, which denotes the data has been transformed with one or more differences of previous values\n",
    "- Moving average (MA) component, which denotes the regression error is a linear combination of contemporary and various lagged errors\n",
    "\n",
    "This basic model is typically written as ARIMA(p, d, q), where the parameters represent:\n",
    "- `p` - number of time lags of the autoregressive model (AR)\n",
    "- `d` - number of differences (I)\n",
    "- `q` - order of moving average terms (MA)\n",
    "\n",
    "**One of the limitations of the basic ARIMA model, however, is that it cannot easily handle seasonality in the data. Daily fluctuations in energy prices can be viewed as a form of *seasonality*; thus, we use a modified form of this model called a seasonal ARIMA model**. \n",
    "\n",
    "The parameters are ARIMA(p, d, q)(P, D, Q)<sub>m </sub> where:\n",
    "- `p`, `d`, `q` - same definition as above\n",
    "- `P` - seasonal autoregressive order\n",
    "- `D` - seasonal differnce order\n",
    "- `Q` - seasonal moving average order\n",
    "- `m` - number of timesteps for a single seasonal period\n"
   ]
  },
  {
   "cell_type": "markdown",
   "id": "cfcff237-8a0a-46e2-b4b7-93ab5b262d52",
   "metadata": {},
   "source": [
    "## 1.2.3 Finding the right parameter values\n",
    "\n",
    "Because we iteratively estimate the model, it's important to automatically select optimal parameter values. We use the Python package `pmdarima` whose `auto_arima` method automatically finds the optimal parameters using a step-wise algorithm.\n",
    "\n",
    "**The only parameter that this method cannot automatically induced is `m`. Auxiliary analyses suggested `m` = 12 provided satisfactory performance, so we use this value in the model**. In a real-world scenario it would be worth a more in-depth analysis using various values of `m` using e.g. a grid-search algorithm."
   ]
  },
  {
   "cell_type": "markdown",
   "id": "3f1ed98d-64ed-471b-814e-40c40412c738",
   "metadata": {},
   "source": [
    "## 1.2.4 Results in the first iteration"
   ]
  },
  {
   "cell_type": "code",
   "execution_count": null,
   "id": "7a9143b4-7d1e-4f83-9e9f-4744e7965407",
   "metadata": {},
   "outputs": [],
   "source": [
    "# Initialize first time period\n",
    "t = 60\n",
    "j = 60\n",
    "columns = ['dt', 'price']  # restrict to necessary columns\n",
    "training_data = pd.Series(df[(df['doy'] <= t) & (df['doy'] > (t-j))][columns].set_index(\"dt\")['price'])\n",
    "test_data = pd.Series(df[df['doy'] == t+1][columns].set_index(\"dt\")['price'])"
   ]
  },
  {
   "cell_type": "code",
   "execution_count": null,
   "id": "8b8db7c1-6131-4c36-b975-b68d30c85c03",
   "metadata": {},
   "outputs": [],
   "source": [
    "print(training_data.head())\n",
    "print(test_data.head())"
   ]
  },
  {
   "cell_type": "code",
   "execution_count": null,
   "id": "0a9f41e8-9c0c-4cff-8c9b-f57129f7f1a7",
   "metadata": {},
   "outputs": [],
   "source": [
    "training_data.tail()"
   ]
  },
  {
   "cell_type": "code",
   "execution_count": null,
   "id": "c8bf709f-2456-4291-ba56-a3857b15a627",
   "metadata": {},
   "outputs": [],
   "source": [
    "start = time.time()\n",
    "\n",
    "m = 24 # number of observations per \"cycle\", see https://robjhyndman.com/hyndsight/seasonal-periods/\n",
    "\n",
    "# We precalculate these to speed up training below\n",
    "d = pm.arima.ndiffs(training_data)  # Estimate ARIMA differencing term, `d`\n",
    "D = pm.arima.nsdiffs(training_data, max_D=5, m=m)  # Estimate the seasonal differencing term, `D`\n",
    "\n",
    "model = pm.auto_arima(training_data,\n",
    "                      start_p=1, max_p=48, \n",
    "                      start_q=1, max_q=48,\n",
    "                      max_P=3, max_Q=3,\n",
    "                      d=d, D=D, m=m,\n",
    "                      method='nm', maxiter=20)  # note - params on this line speed up model convergence\n",
    "\n",
    "print(f\"Total time: {round(time.time() - start, 2)} seconds.\")"
   ]
  },
  {
   "cell_type": "code",
   "execution_count": null,
   "id": "12f4cd2a-1d1c-4daa-9e14-9ae9dc6e6627",
   "metadata": {},
   "outputs": [],
   "source": [
    "print(model.summary())"
   ]
  },
  {
   "cell_type": "code",
   "execution_count": null,
   "id": "178c5fdf-a89b-4e0a-b7ec-1f8ca9357adf",
   "metadata": {},
   "outputs": [],
   "source": [
    "model.plot_diagnostics(figsize=(10,10))\n",
    "plt.suptitle('Figure 3: Seasonal ARIMA Performance Metrics from First Iteration')\n",
    "plt.show()"
   ]
  },
  {
   "cell_type": "markdown",
   "id": "cb355279-a111-4be1-b65a-9cedc617cf85",
   "metadata": {},
   "source": [
    "The plot diagnostics above indicate a relatively good forecasting fit.\n",
    "\n",
    "- \"Standardized residuals\" - the residual errors seem to fluctuate around a mean of zero. There, however, seems to be **some evidence of lingering heteroskedasticity**. While this does not affect our forecasts, it does potentally affect the standard errors of our coefficients\n",
    "\n",
    "- \"Histogram plus estimated density\" - We see some **evidence of positive kurtosis (leptokurtic)** in the standardized residuals (the orange kernel density plot and histogram) relative to the normal distribution (green line). Negative kurtisis is evident by the \"light tails\" of the distribution. This suggests there are more outliers relative to a normal distribution, since the tails of this distribution more slowly asymptotically approach zero than slowly than a standard Gaussian distribution. **This suggests our model may do less well at predicting extreme values**\n",
    "\n",
    "- \"Normal Q-Q\" - we see again evidence of positive kurtosis as the tails drift more strongly from the red line, i.e. the expected distribution of normal residuals\n",
    "\n",
    "- \"Correlogram\" - aka autocorrelation function (ACF) plot shows the residuals are not autocorrelated.  "
   ]
  },
  {
   "cell_type": "code",
   "execution_count": null,
   "id": "a136942f-f5ca-4667-91ad-b17830bd6118",
   "metadata": {},
   "outputs": [],
   "source": [
    "n_periods = 24\n",
    "fc, confint = model.predict(n_periods=n_periods, return_conf_int=True)"
   ]
  },
  {
   "cell_type": "code",
   "execution_count": null,
   "id": "20f531d0-cdbd-4eb8-8a4d-6a53c5221a43",
   "metadata": {},
   "outputs": [],
   "source": [
    "train_periods = 48\n",
    "train = training_data[-train_periods:].reset_index().copy()\n",
    "train['countdown'] = -((train['dt'].max() - train['dt']) / np.timedelta64(1, 'h')).astype(int)\n",
    "\n",
    "test = test_data.reset_index().copy()\n",
    "test['countdown'] = ((test['dt'] - test['dt'].min()) / np.timedelta64(1, 'h')).astype(int)"
   ]
  },
  {
   "cell_type": "code",
   "execution_count": null,
   "id": "d3e1dfcc-40a8-49fc-8d87-69ce09ab9f86",
   "metadata": {},
   "outputs": [],
   "source": [
    "figure(figsize=(8, 6), dpi=80)\n",
    "plt.plot(train['countdown'], train['price'], label='training')\n",
    "plt.plot(test['countdown'], test['price'], label='actual')\n",
    "plt.plot(test['countdown'], fc, label='forecast')\n",
    "plt.xlabel('Hour Relative to Forecast')\n",
    "plt.ylabel('Price in EUR')\n",
    "plt.legend()\n",
    "plt.title(\"Figure 4: Actual vs. Forecasted Price in First Iteration\")\n",
    "plt.show()"
   ]
  },
  {
   "cell_type": "raw",
   "id": "0c56f82f-9ce4-40ef-bc36-3618b3bf4428",
   "metadata": {},
   "source": [
    "Figure 4 plots the last 48 hours of prices in the first iteration of the training set (i.e. up until 23h of 1 March 2022, where x-axis == 0) in blue. The orange line represents the observed prices over the next 24 hours (i.e. between 00-23h of 2. March 2022, while the green line is the forecast for this period. We see the forecasts tracks the observed time series fairly well."
   ]
  },
  {
   "cell_type": "markdown",
   "id": "ff2e3b2c-5142-4030-92b3-c6636158b760",
   "metadata": {},
   "source": [
    "### 1.2.4.1 Accuracy metrics in the first iteration"
   ]
  },
  {
   "cell_type": "code",
   "execution_count": 51,
   "id": "b1356969-ef1f-495a-be76-e7ce07acbecc",
   "metadata": {},
   "outputs": [],
   "source": [
    "def forecast_accuracy(forecast: ArrayLike, actual: ArrayLike) -> Dict:\n",
    "    \"\"\"\n",
    "    Calculates common performance metrics of a forecast relative to the actual values.\n",
    "    :param forecast: ArrayLike, vector of floating point predictions for each time point\n",
    "    :param actual: ArrayLike, vector of floating point actual values for each time point\n",
    "    :return: dictionary of 6 elements:\n",
    "        \"mape\" : mean absolute percentage error, i.e. average of the absolute percentage difference\n",
    "        \"mse\": mean squared error, i.e. average of the squared difference\n",
    "        \"mae\": mean absolute error, i.e. average of the absolute difference\n",
    "        \"rmse\": root mean squared error, i.e. square root of the mean squared error, measuring std of residuals\n",
    "        \"corr\": Pearson product-moment correlation coefficients\n",
    "    \"\"\"\n",
    "    mape = np.mean(np.abs(forecast - actual) / np.abs(actual))  # MAPE\n",
    "    mse = np.mean((forecast - actual)**2)  # MSE\n",
    "    mae = np.mean(np.abs(forecast - actual))  # MAE\n",
    "    rmse = np.mean((forecast - actual) ** 2) ** .5  # RMSE\n",
    "    corr = np.corrcoef(forecast, actual)[0, 1]  # corr\n",
    "    return ({'mape': mape, 'mse': mse, 'mae': mae,\n",
    "             'rmse': rmse, 'corr': corr})\n"
   ]
  },
  {
   "cell_type": "code",
   "execution_count": null,
   "id": "3d94482d-da71-43e8-8777-706aa5b901df",
   "metadata": {},
   "outputs": [],
   "source": [
    "forecast_accuracy(fc, test_data)"
   ]
  },
  {
   "cell_type": "markdown",
   "id": "7b0e1b10-6468-4937-9d11-89d709e11520",
   "metadata": {},
   "source": [
    "Without going into great detail, the forecast metrics above tell us the model does a good job in predicting the next 24 hours of the time series in the first iteration. The mean absolute percentage error of 0.05 tells us that we're about 95% accurate in predicting the next 24 hours. On average, our forecasts miss the true price by about 14.8 EUR in absolute terms according to the mean absolute error."
   ]
  },
  {
   "cell_type": "markdown",
   "id": "f6c23266-a793-4249-bdd0-666befd934d9",
   "metadata": {},
   "source": [
    "## 1.2.5 Run the full algorithm"
   ]
  },
  {
   "cell_type": "code",
   "execution_count": null,
   "id": "110386e3-fc9b-474e-9c7a-5352efd428ae",
   "metadata": {
    "tags": []
   },
   "outputs": [],
   "source": [
    "t = 60\n",
    "j = 60\n",
    "columns = ['dt', 'price']  # restrict to necessary columns\n",
    "m = 24\n",
    "\n",
    "results = pd.DataFrame()\n",
    "start = time.time()\n",
    "for count, t in enumerate(df['doy'].unique()[t:-1]):\n",
    "\n",
    "    training_data = pd.Series(df[(df['doy'] <= t) & (df['doy'] > (t-j))][columns].set_index(\"dt\")['price'])\n",
    "    test_data = pd.Series(df[df['doy'] == t+1][columns].set_index(\"dt\")['price'])\n",
    "\n",
    "    # We precalculate these to speed up training below\n",
    "    d = pm.arima.ndiffs(training_data)  # Estimate ARIMA differencing term, `d`\n",
    "    D = pm.arima.nsdiffs(training_data, max_D=5, m=m)  # Estimate the seasonal differencing term, `D`\n",
    "\n",
    "    model = pm.auto_arima(training_data,\n",
    "                          start_p=1, max_p=48, \n",
    "                          start_q=1, max_q=48,\n",
    "                          max_P=3, max_Q=3,\n",
    "                          d=d, D=D, m=m,\n",
    "                          suppress_warnings=True,\n",
    "                          method='nm', maxiter=20)  # note - params on this line speed up model convergence\n",
    "    \n",
    "    fc = model.predict(n_periods=24, return_conf_int=False)\n",
    "    \n",
    "    iteration_result = pd.DataFrame([test_data.index, test_data.values, fc]).T.rename(columns={0: 'dt', 1: 'actual', 2: 'forecasted'})\n",
    "    \n",
    "    results = pd.concat([results, iteration_result], axis=0)\n",
    "\n",
    "    print(f\"Cumulative runtime at iteration {count + 1}: {round((time.time() - start) / 60, 2)} minutes.\")\n",
    "\n",
    "results = results.reset_index(drop=True)\n",
    "    \n",
    "results.to_csv('./data/results.csv', index=False)"
   ]
  },
  {
   "cell_type": "markdown",
   "id": "b9400bd6-f5bf-4d71-a2e7-01ec4ffc1281",
   "metadata": {},
   "source": [
    "## 1.2.6 Performance of the forecasted time series"
   ]
  },
  {
   "cell_type": "code",
   "execution_count": 52,
   "id": "d847385c-9ba9-45ab-830b-ddb4118e84e0",
   "metadata": {},
   "outputs": [],
   "source": [
    "results = pd.read_csv('./data/results.csv')\n",
    "results = results[results['dt'].notnull()].reset_index(drop=True)\n",
    "results['dt'] = pd.to_datetime(results['dt'], format='%Y-%m-%d %H:%M:%S')"
   ]
  },
  {
   "cell_type": "code",
   "execution_count": 53,
   "id": "ded1d00e-6bc4-4bdb-b183-8fae58880754",
   "metadata": {},
   "outputs": [
    {
     "data": {
      "text/plain": [
       "{'mape': inf,\n",
       " 'mse': 3702.9421910459414,\n",
       " 'mae': 42.88214920691666,\n",
       " 'rmse': 60.8518051584827,\n",
       " 'corr': 0.7699683422074328}"
      ]
     },
     "execution_count": 53,
     "metadata": {},
     "output_type": "execute_result"
    }
   ],
   "source": [
    "forecast_accuracy(results['forecasted'], results['actual'])"
   ]
  },
  {
   "cell_type": "markdown",
   "id": "3f5bf72f-6fea-496b-822b-3a49e5914ec8",
   "metadata": {},
   "source": [
    "Overall, we fair a bit worse than in the first iteration though still satisfactory. On average, our forecasts are about 43 EUR off in absolute terms relative to the actual price. Note - the mean absolute percentage error [fails when there are zero or close-to-zero values](https://en.wikipedia.org/wiki/Mean_absolute_percentage_error), hence \"inf\"."
   ]
  },
  {
   "cell_type": "code",
   "execution_count": 54,
   "id": "54d7d9db-9529-4d08-a0fd-8e4490f1d9fe",
   "metadata": {},
   "outputs": [
    {
     "data": {
      "image/png": "[encoded data removed]",
      "text/plain": [
       "<Figure size 640x480 with 1 Axes>"
      ]
     },
     "metadata": {
      "needs_background": "light"
     },
     "output_type": "display_data"
    }
   ],
   "source": [
    "figure(figsize=(8, 6), dpi=80)\n",
    "plt.plot(results['dt'], results['forecasted'], label='forecasted', color='#2ca02c')\n",
    "plt.plot(results['dt'], results['actual'], label='actual', color='#ff7f0e')\n",
    "plt.xlabel('Date')\n",
    "plt.ylabel('Price in EUR')\n",
    "plt.legend()\n",
    "plt.title(\"Figure 5: Forecasted vs. Actual Price Across Time\")\n",
    "plt.xticks(rotation = 45)\n",
    "plt.show()"
   ]
  }
 ],
 "metadata": {
  "kernelspec": {
   "display_name": "Python 3 (ipykernel)",
   "language": "python",
   "name": "python3"
  },
  "language_info": {
   "codemirror_mode": {
    "name": "ipython",
    "version": 3
   },
   "file_extension": ".py",
   "mimetype": "text/x-python",
   "name": "python",
   "nbconvert_exporter": "python",
   "pygments_lexer": "ipython3",
   "version": "3.7.4"
  }
 },
 "nbformat": 4,
 "nbformat_minor": 5
}

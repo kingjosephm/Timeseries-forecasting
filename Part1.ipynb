{
 "cells": [
  {
   "cell_type": "markdown",
   "id": "fd3e23b3-4fef-4134-bfda-294ae764dadd",
   "metadata": {},
   "source": [
    "## Import packages"
   ]
  },
  {
   "cell_type": "code",
   "execution_count": 1,
   "id": "217a620c-c353-4764-bd78-dfe9411721f4",
   "metadata": {},
   "outputs": [],
   "source": [
    "import pandas as pd\n",
    "import matplotlib.pyplot as plt\n",
    "from matplotlib.pyplot import figure\n",
    "import seaborn as sns\n",
    "from scipy.stats import percentileofscore"
   ]
  },
  {
   "cell_type": "markdown",
   "id": "bb9c6f73-3890-4914-82e5-76eec5e4814a",
   "metadata": {},
   "source": [
    "## Read Data & Preprocess"
   ]
  },
  {
   "cell_type": "code",
   "execution_count": 2,
   "id": "21e1f1ca-a537-43d9-97cf-b55bf450a08c",
   "metadata": {},
   "outputs": [],
   "source": [
    "df = pd.read_csv('./data/Day-ahead_Prices_60min.csv')"
   ]
  },
  {
   "cell_type": "code",
   "execution_count": 3,
   "id": "11a1bdeb-0d66-4bb5-a8fa-bfb1ff4de04c",
   "metadata": {},
   "outputs": [],
   "source": [
    "# Rename columns for simplicity, drop missing/invariant columns\n",
    "df = df.rename(columns={'MTU (CET/CEST)': \"dt\", 'Day-ahead Price [EUR/MWh]': 'price'})\n",
    "df = df.iloc[:, :2]  # other two columns were invariant or missing"
   ]
  },
  {
   "cell_type": "markdown",
   "id": "87409455-fc84-45bb-8803-ece185031498",
   "metadata": {},
   "source": [
    "#### Convert `MTU (CET/CEST)` to starting of 60 min contract"
   ]
  },
  {
   "cell_type": "code",
   "execution_count": 4,
   "id": "5cafc51a-ad71-4b49-ad0a-d2c48d37957b",
   "metadata": {},
   "outputs": [],
   "source": [
    "df['dt'] = df['dt'].apply(lambda x: ''.join(x.split(' - ')[0])) # take first time listed\n",
    "df['dt'] = pd.to_datetime(df['dt'], format='%d.%m.%Y %H:%M')"
   ]
  },
  {
   "cell_type": "markdown",
   "id": "1d2f5d4a-65c7-442b-93b9-a0bafe0603e7",
   "metadata": {},
   "source": [
    "#### Engineer Time Features: Date, Month, Day of Month (dom), Day of Week (dow), Hour of Day"
   ]
  },
  {
   "cell_type": "code",
   "execution_count": 5,
   "id": "afb423ed-7c6b-4ae9-9efe-ca7c598ff528",
   "metadata": {},
   "outputs": [],
   "source": [
    "df['date'] = df['dt'].dt.date\n",
    "df['hour'] = df['dt'].dt.hour\n",
    "df['month'] = df['dt'].dt.month\n",
    "df['dow'] = df['dt'].dt.dayofweek  # numeric day, 0 is Monday, 6 is Sunday\n",
    "df['dom'] = df['date'].astype(str).apply(lambda x: int(x.split('-')[-1]))  # date of month"
   ]
  },
  {
   "cell_type": "code",
   "execution_count": 6,
   "id": "14af7d69-2448-4ac9-93e8-20dee6d21a35",
   "metadata": {},
   "outputs": [
    {
     "data": {
      "text/html": [
       "<div>\n",
       "<style scoped>\n",
       "    .dataframe tbody tr th:only-of-type {\n",
       "        vertical-align: middle;\n",
       "    }\n",
       "\n",
       "    .dataframe tbody tr th {\n",
       "        vertical-align: top;\n",
       "    }\n",
       "\n",
       "    .dataframe thead th {\n",
       "        text-align: right;\n",
       "    }\n",
       "</style>\n",
       "<table border=\"1\" class=\"dataframe\">\n",
       "  <thead>\n",
       "    <tr style=\"text-align: right;\">\n",
       "      <th></th>\n",
       "      <th>dt</th>\n",
       "      <th>price</th>\n",
       "      <th>date</th>\n",
       "      <th>hour</th>\n",
       "      <th>month</th>\n",
       "      <th>dow</th>\n",
       "      <th>dom</th>\n",
       "    </tr>\n",
       "  </thead>\n",
       "  <tbody>\n",
       "    <tr>\n",
       "      <th>0</th>\n",
       "      <td>2022-01-01 00:00:00</td>\n",
       "      <td>50.05</td>\n",
       "      <td>2022-01-01</td>\n",
       "      <td>0</td>\n",
       "      <td>1</td>\n",
       "      <td>5</td>\n",
       "      <td>1</td>\n",
       "    </tr>\n",
       "    <tr>\n",
       "      <th>1</th>\n",
       "      <td>2022-01-01 01:00:00</td>\n",
       "      <td>41.33</td>\n",
       "      <td>2022-01-01</td>\n",
       "      <td>1</td>\n",
       "      <td>1</td>\n",
       "      <td>5</td>\n",
       "      <td>1</td>\n",
       "    </tr>\n",
       "    <tr>\n",
       "      <th>2</th>\n",
       "      <td>2022-01-01 02:00:00</td>\n",
       "      <td>43.22</td>\n",
       "      <td>2022-01-01</td>\n",
       "      <td>2</td>\n",
       "      <td>1</td>\n",
       "      <td>5</td>\n",
       "      <td>1</td>\n",
       "    </tr>\n",
       "    <tr>\n",
       "      <th>3</th>\n",
       "      <td>2022-01-01 03:00:00</td>\n",
       "      <td>45.46</td>\n",
       "      <td>2022-01-01</td>\n",
       "      <td>3</td>\n",
       "      <td>1</td>\n",
       "      <td>5</td>\n",
       "      <td>1</td>\n",
       "    </tr>\n",
       "    <tr>\n",
       "      <th>4</th>\n",
       "      <td>2022-01-01 04:00:00</td>\n",
       "      <td>37.67</td>\n",
       "      <td>2022-01-01</td>\n",
       "      <td>4</td>\n",
       "      <td>1</td>\n",
       "      <td>5</td>\n",
       "      <td>1</td>\n",
       "    </tr>\n",
       "    <tr>\n",
       "      <th>...</th>\n",
       "      <td>...</td>\n",
       "      <td>...</td>\n",
       "      <td>...</td>\n",
       "      <td>...</td>\n",
       "      <td>...</td>\n",
       "      <td>...</td>\n",
       "      <td>...</td>\n",
       "    </tr>\n",
       "    <tr>\n",
       "      <th>4339</th>\n",
       "      <td>2022-06-30 19:00:00</td>\n",
       "      <td>479.00</td>\n",
       "      <td>2022-06-30</td>\n",
       "      <td>19</td>\n",
       "      <td>6</td>\n",
       "      <td>3</td>\n",
       "      <td>30</td>\n",
       "    </tr>\n",
       "    <tr>\n",
       "      <th>4340</th>\n",
       "      <td>2022-06-30 20:00:00</td>\n",
       "      <td>450.00</td>\n",
       "      <td>2022-06-30</td>\n",
       "      <td>20</td>\n",
       "      <td>6</td>\n",
       "      <td>3</td>\n",
       "      <td>30</td>\n",
       "    </tr>\n",
       "    <tr>\n",
       "      <th>4341</th>\n",
       "      <td>2022-06-30 21:00:00</td>\n",
       "      <td>394.21</td>\n",
       "      <td>2022-06-30</td>\n",
       "      <td>21</td>\n",
       "      <td>6</td>\n",
       "      <td>3</td>\n",
       "      <td>30</td>\n",
       "    </tr>\n",
       "    <tr>\n",
       "      <th>4342</th>\n",
       "      <td>2022-06-30 22:00:00</td>\n",
       "      <td>355.17</td>\n",
       "      <td>2022-06-30</td>\n",
       "      <td>22</td>\n",
       "      <td>6</td>\n",
       "      <td>3</td>\n",
       "      <td>30</td>\n",
       "    </tr>\n",
       "    <tr>\n",
       "      <th>4343</th>\n",
       "      <td>2022-06-30 23:00:00</td>\n",
       "      <td>258.08</td>\n",
       "      <td>2022-06-30</td>\n",
       "      <td>23</td>\n",
       "      <td>6</td>\n",
       "      <td>3</td>\n",
       "      <td>30</td>\n",
       "    </tr>\n",
       "  </tbody>\n",
       "</table>\n",
       "<p>4344 rows × 7 columns</p>\n",
       "</div>"
      ],
      "text/plain": [
       "                      dt   price        date  hour  month  dow  dom\n",
       "0    2022-01-01 00:00:00   50.05  2022-01-01     0      1    5    1\n",
       "1    2022-01-01 01:00:00   41.33  2022-01-01     1      1    5    1\n",
       "2    2022-01-01 02:00:00   43.22  2022-01-01     2      1    5    1\n",
       "3    2022-01-01 03:00:00   45.46  2022-01-01     3      1    5    1\n",
       "4    2022-01-01 04:00:00   37.67  2022-01-01     4      1    5    1\n",
       "...                  ...     ...         ...   ...    ...  ...  ...\n",
       "4339 2022-06-30 19:00:00  479.00  2022-06-30    19      6    3   30\n",
       "4340 2022-06-30 20:00:00  450.00  2022-06-30    20      6    3   30\n",
       "4341 2022-06-30 21:00:00  394.21  2022-06-30    21      6    3   30\n",
       "4342 2022-06-30 22:00:00  355.17  2022-06-30    22      6    3   30\n",
       "4343 2022-06-30 23:00:00  258.08  2022-06-30    23      6    3   30\n",
       "\n",
       "[4344 rows x 7 columns]"
      ]
     },
     "execution_count": 6,
     "metadata": {},
     "output_type": "execute_result"
    }
   ],
   "source": [
    "df"
   ]
  },
  {
   "cell_type": "markdown",
   "id": "5bce5c90-b446-4f31-91e6-081a79f88452",
   "metadata": {},
   "source": [
    "## Exploratory Data Analysis (EDA)"
   ]
  },
  {
   "cell_type": "code",
   "execution_count": 7,
   "id": "1bd0af77-609e-4067-963c-3c51c50e6368",
   "metadata": {},
   "outputs": [
    {
     "data": {
      "text/plain": [
       "(4344, 7)"
      ]
     },
     "execution_count": 7,
     "metadata": {},
     "output_type": "execute_result"
    }
   ],
   "source": [
    "df.shape"
   ]
  },
  {
   "cell_type": "code",
   "execution_count": 8,
   "id": "5d51a26e-57ad-425e-a0ba-e373b6628759",
   "metadata": {},
   "outputs": [
    {
     "name": "stdout",
     "output_type": "stream",
     "text": [
      "2022-01-01 00:00:00\n",
      "2022-06-30 23:00:00\n"
     ]
    }
   ],
   "source": [
    "print(df['dt'].min())\n",
    "print(df['dt'].max())"
   ]
  },
  {
   "cell_type": "code",
   "execution_count": 9,
   "id": "957c7708-4ad6-4cbc-8281-06d856871ace",
   "metadata": {},
   "outputs": [
    {
     "data": {
      "text/plain": [
       "count    4343.000000\n",
       "mean      185.802167\n",
       "std        90.656821\n",
       "min       -19.040000\n",
       "25%       122.150000\n",
       "50%       189.000000\n",
       "75%       232.935000\n",
       "max       700.000000\n",
       "Name: price, dtype: float64"
      ]
     },
     "execution_count": 9,
     "metadata": {},
     "output_type": "execute_result"
    }
   ],
   "source": [
    "df['price'].describe()"
   ]
  },
  {
   "cell_type": "code",
   "execution_count": 10,
   "id": "a6e4e5d0-7e3c-4077-ab16-6b948d7e652e",
   "metadata": {},
   "outputs": [
    {
     "data": {
      "text/plain": [
       "(38, 7)"
      ]
     },
     "execution_count": 10,
     "metadata": {},
     "output_type": "execute_result"
    }
   ],
   "source": [
    "df[df['price']<0].shape"
   ]
  },
  {
   "cell_type": "code",
   "execution_count": 11,
   "id": "6d690990-86bb-4b94-9b74-34783d52e2f8",
   "metadata": {},
   "outputs": [
    {
     "data": {
      "text/plain": [
       "dt       0.00000\n",
       "price    0.00023\n",
       "date     0.00000\n",
       "hour     0.00000\n",
       "month    0.00000\n",
       "dow      0.00000\n",
       "dom      0.00000\n",
       "dtype: float64"
      ]
     },
     "execution_count": 11,
     "metadata": {},
     "output_type": "execute_result"
    }
   ],
   "source": [
    "df.isnull().mean()"
   ]
  },
  {
   "cell_type": "code",
   "execution_count": 12,
   "id": "1dbad17d-9e45-487b-a1eb-b5568b32ddd5",
   "metadata": {},
   "outputs": [
    {
     "data": {
      "image/png": "[encoded data removed]",
      "text/plain": [
       "<Figure size 640x480 with 1 Axes>"
      ]
     },
     "metadata": {
      "needs_background": "light"
     },
     "output_type": "display_data"
    }
   ],
   "source": [
    "figure(figsize=(8, 6), dpi=80)\n",
    "sns.lineplot(df, x='dt', y='price')\n",
    "plt.ylabel('Price in EUR')\n",
    "plt.xlabel('Date')\n",
    "plt.title('Figure 1: Price over Time')\n",
    "plt.show()"
   ]
  },
  {
   "cell_type": "markdown",
   "id": "d7c09595-c964-4278-9f44-6a92f375e566",
   "metadata": {},
   "source": [
    "# Question 1.1\n",
    "\n",
    "We start by calculating the percentile rank, a common distributional statistic, of each price grouped by date using the function `series_percentile`. An intutitive explanation of percentile rank is e.g. 80% means that 80% of the scores in a series/array are below the given score. \n",
    "\n",
    "Using percentile rank conditions out price shifts over time such as what we see in `Figure 1` above. This allows us to compare prices *relative* to the other prices for a given day, rather than compare them absolutely across time. Percentile rank is also more robust to outliers than mean-based scores (e.g. [standardized score](https://en.wikipedia.org/wiki/Standard_score))"
   ]
  },
  {
   "cell_type": "code",
   "execution_count": 13,
   "id": "2c557ee2-109f-4be8-a742-974e2725dd38",
   "metadata": {},
   "outputs": [],
   "source": [
    "def series_percentile(series: pd.Series) -> pd.Series:\n",
    "    \"\"\"\n",
    "    Calculates the average percentage ranking of a pd.Series. In case of multiple matches, average \n",
    "        the percentage rankings of all matching scores.\n",
    "    :param series: pd.Series, a single day's price data\n",
    "    :return: pd.Series\n",
    "    \"\"\"\n",
    "    return pd.Series([percentileofscore(series, a, 'rank') for a in series])"
   ]
  },
  {
   "cell_type": "code",
   "execution_count": 14,
   "id": "fe690e28-a2e3-4f7a-bd91-9a4e91153e2e",
   "metadata": {},
   "outputs": [],
   "source": [
    "perc = df.groupby('date')['price'].apply(series_percentile).reset_index()\n",
    "perc = perc.rename(columns={'price': 'percentile'})\n",
    "df = pd.concat([df, perc['percentile']], axis=1)"
   ]
  },
  {
   "cell_type": "code",
   "execution_count": 15,
   "id": "cb64acc5-580a-4cda-b242-a6e121b6ef2d",
   "metadata": {},
   "outputs": [
    {
     "data": {
      "text/html": [
       "<div>\n",
       "<style scoped>\n",
       "    .dataframe tbody tr th:only-of-type {\n",
       "        vertical-align: middle;\n",
       "    }\n",
       "\n",
       "    .dataframe tbody tr th {\n",
       "        vertical-align: top;\n",
       "    }\n",
       "\n",
       "    .dataframe thead th {\n",
       "        text-align: right;\n",
       "    }\n",
       "</style>\n",
       "<table border=\"1\" class=\"dataframe\">\n",
       "  <thead>\n",
       "    <tr style=\"text-align: right;\">\n",
       "      <th></th>\n",
       "      <th>dt</th>\n",
       "      <th>price</th>\n",
       "      <th>date</th>\n",
       "      <th>hour</th>\n",
       "      <th>month</th>\n",
       "      <th>dow</th>\n",
       "      <th>dom</th>\n",
       "      <th>percentile</th>\n",
       "    </tr>\n",
       "  </thead>\n",
       "  <tbody>\n",
       "    <tr>\n",
       "      <th>0</th>\n",
       "      <td>2022-01-01 00:00:00</td>\n",
       "      <td>50.05</td>\n",
       "      <td>2022-01-01</td>\n",
       "      <td>0</td>\n",
       "      <td>1</td>\n",
       "      <td>5</td>\n",
       "      <td>1</td>\n",
       "      <td>37.500000</td>\n",
       "    </tr>\n",
       "    <tr>\n",
       "      <th>1</th>\n",
       "      <td>2022-01-01 01:00:00</td>\n",
       "      <td>41.33</td>\n",
       "      <td>2022-01-01</td>\n",
       "      <td>1</td>\n",
       "      <td>1</td>\n",
       "      <td>5</td>\n",
       "      <td>1</td>\n",
       "      <td>16.666667</td>\n",
       "    </tr>\n",
       "    <tr>\n",
       "      <th>2</th>\n",
       "      <td>2022-01-01 02:00:00</td>\n",
       "      <td>43.22</td>\n",
       "      <td>2022-01-01</td>\n",
       "      <td>2</td>\n",
       "      <td>1</td>\n",
       "      <td>5</td>\n",
       "      <td>1</td>\n",
       "      <td>20.833333</td>\n",
       "    </tr>\n",
       "    <tr>\n",
       "      <th>3</th>\n",
       "      <td>2022-01-01 03:00:00</td>\n",
       "      <td>45.46</td>\n",
       "      <td>2022-01-01</td>\n",
       "      <td>3</td>\n",
       "      <td>1</td>\n",
       "      <td>5</td>\n",
       "      <td>1</td>\n",
       "      <td>29.166667</td>\n",
       "    </tr>\n",
       "    <tr>\n",
       "      <th>4</th>\n",
       "      <td>2022-01-01 04:00:00</td>\n",
       "      <td>37.67</td>\n",
       "      <td>2022-01-01</td>\n",
       "      <td>4</td>\n",
       "      <td>1</td>\n",
       "      <td>5</td>\n",
       "      <td>1</td>\n",
       "      <td>4.166667</td>\n",
       "    </tr>\n",
       "    <tr>\n",
       "      <th>...</th>\n",
       "      <td>...</td>\n",
       "      <td>...</td>\n",
       "      <td>...</td>\n",
       "      <td>...</td>\n",
       "      <td>...</td>\n",
       "      <td>...</td>\n",
       "      <td>...</td>\n",
       "      <td>...</td>\n",
       "    </tr>\n",
       "    <tr>\n",
       "      <th>4339</th>\n",
       "      <td>2022-06-30 19:00:00</td>\n",
       "      <td>479.00</td>\n",
       "      <td>2022-06-30</td>\n",
       "      <td>19</td>\n",
       "      <td>6</td>\n",
       "      <td>3</td>\n",
       "      <td>30</td>\n",
       "      <td>100.000000</td>\n",
       "    </tr>\n",
       "    <tr>\n",
       "      <th>4340</th>\n",
       "      <td>2022-06-30 20:00:00</td>\n",
       "      <td>450.00</td>\n",
       "      <td>2022-06-30</td>\n",
       "      <td>20</td>\n",
       "      <td>6</td>\n",
       "      <td>3</td>\n",
       "      <td>30</td>\n",
       "      <td>95.833333</td>\n",
       "    </tr>\n",
       "    <tr>\n",
       "      <th>4341</th>\n",
       "      <td>2022-06-30 21:00:00</td>\n",
       "      <td>394.21</td>\n",
       "      <td>2022-06-30</td>\n",
       "      <td>21</td>\n",
       "      <td>6</td>\n",
       "      <td>3</td>\n",
       "      <td>30</td>\n",
       "      <td>87.500000</td>\n",
       "    </tr>\n",
       "    <tr>\n",
       "      <th>4342</th>\n",
       "      <td>2022-06-30 22:00:00</td>\n",
       "      <td>355.17</td>\n",
       "      <td>2022-06-30</td>\n",
       "      <td>22</td>\n",
       "      <td>6</td>\n",
       "      <td>3</td>\n",
       "      <td>30</td>\n",
       "      <td>70.833333</td>\n",
       "    </tr>\n",
       "    <tr>\n",
       "      <th>4343</th>\n",
       "      <td>2022-06-30 23:00:00</td>\n",
       "      <td>258.08</td>\n",
       "      <td>2022-06-30</td>\n",
       "      <td>23</td>\n",
       "      <td>6</td>\n",
       "      <td>3</td>\n",
       "      <td>30</td>\n",
       "      <td>4.166667</td>\n",
       "    </tr>\n",
       "  </tbody>\n",
       "</table>\n",
       "<p>4344 rows × 8 columns</p>\n",
       "</div>"
      ],
      "text/plain": [
       "                      dt   price        date  hour  month  dow  dom  \\\n",
       "0    2022-01-01 00:00:00   50.05  2022-01-01     0      1    5    1   \n",
       "1    2022-01-01 01:00:00   41.33  2022-01-01     1      1    5    1   \n",
       "2    2022-01-01 02:00:00   43.22  2022-01-01     2      1    5    1   \n",
       "3    2022-01-01 03:00:00   45.46  2022-01-01     3      1    5    1   \n",
       "4    2022-01-01 04:00:00   37.67  2022-01-01     4      1    5    1   \n",
       "...                  ...     ...         ...   ...    ...  ...  ...   \n",
       "4339 2022-06-30 19:00:00  479.00  2022-06-30    19      6    3   30   \n",
       "4340 2022-06-30 20:00:00  450.00  2022-06-30    20      6    3   30   \n",
       "4341 2022-06-30 21:00:00  394.21  2022-06-30    21      6    3   30   \n",
       "4342 2022-06-30 22:00:00  355.17  2022-06-30    22      6    3   30   \n",
       "4343 2022-06-30 23:00:00  258.08  2022-06-30    23      6    3   30   \n",
       "\n",
       "      percentile  \n",
       "0      37.500000  \n",
       "1      16.666667  \n",
       "2      20.833333  \n",
       "3      29.166667  \n",
       "4       4.166667  \n",
       "...          ...  \n",
       "4339  100.000000  \n",
       "4340   95.833333  \n",
       "4341   87.500000  \n",
       "4342   70.833333  \n",
       "4343    4.166667  \n",
       "\n",
       "[4344 rows x 8 columns]"
      ]
     },
     "execution_count": 15,
     "metadata": {},
     "output_type": "execute_result"
    }
   ],
   "source": [
    "df"
   ]
  },
  {
   "cell_type": "markdown",
   "id": "a56bfdd8-4984-4576-8e52-52b5f05d197a",
   "metadata": {},
   "source": [
    "Next, we calculate some measures of central tendency (i.e. the mean and median) by hour of day. This tells us typically what times of day energy prices are highest and lowest. "
   ]
  },
  {
   "cell_type": "code",
   "execution_count": 16,
   "id": "6e12c251-48be-4054-9754-2ebaf208ff76",
   "metadata": {},
   "outputs": [],
   "source": [
    "hourly_mean = df.groupby('hour')['percentile'].mean()\n",
    "hourly_median = df.groupby('hour')['percentile'].median()"
   ]
  },
  {
   "cell_type": "code",
   "execution_count": 17,
   "id": "d9e495bb-d7aa-4b76-8a24-24c8453725c9",
   "metadata": {},
   "outputs": [
    {
     "data": {
      "image/png": "[encoded data removed]",
      "text/plain": [
       "<Figure size 640x480 with 1 Axes>"
      ]
     },
     "metadata": {
      "needs_background": "light"
     },
     "output_type": "display_data"
    }
   ],
   "source": [
    "figure(figsize=(8, 6), dpi=80)\n",
    "sns.lineplot(hourly_mean, label='mean')\n",
    "sns.lineplot(hourly_median, label='median')\n",
    "plt.ylabel('Percentile Rank of Price')\n",
    "plt.xlabel('Hour of Day')\n",
    "plt.title('Figure 2: Percentile Rank by Hour')\n",
    "plt.show()"
   ]
  },
  {
   "cell_type": "markdown",
   "id": "bfe7aa07-8a13-4b43-88be-13333bf52f7b",
   "metadata": {},
   "source": [
    "### Answer\n",
    "\n",
    "According to `Figure 2`, **energy prices are typically *lowest* between 1h and 5h and again between 11h and 15h, meaning that profits could be maximized by *charging* during these off-peak times.**\n",
    "\n",
    "Conversely, **energy prices are typically *highest* from 6h-10h and 16h-22h, meaning profits could be maximized by *discharging* during these peak times.**"
   ]
  }
 ],
 "metadata": {
  "kernelspec": {
   "display_name": "Python 3 (ipykernel)",
   "language": "python",
   "name": "python3"
  },
  "language_info": {
   "codemirror_mode": {
    "name": "ipython",
    "version": 3
   },
   "file_extension": ".py",
   "mimetype": "text/x-python",
   "name": "python",
   "nbconvert_exporter": "python",
   "pygments_lexer": "ipython3",
   "version": "3.7.4"
  }
 },
 "nbformat": 4,
 "nbformat_minor": 5
}
